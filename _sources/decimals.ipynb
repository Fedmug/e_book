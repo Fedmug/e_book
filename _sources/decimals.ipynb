{
 "cells": [
  {
   "cell_type": "markdown",
   "metadata": {},
   "source": [
    "# Десятичные дроби\n",
    "\n",
    "У действительного числа есть много определений разной степени строгости. Например, можно сказать, что действительное число — это\n",
    "\n",
    "* точка на числовой прямой;\n",
    "* бесконечная десятичная дробь;\n",
    "* класс эквивалентных последовательностей рациональных чисел (что бы это ни значило).\n",
    "\n",
    "```{math}\n",
    "    \\alpha = \\pm\\overline{a_{-k}\\ldots a_{-1} a_0.a_1\\ldots a_n\\ldots}, \\quad a_i \\in \\{0, 1, \\ldots, 9\\}.\n",
    "```"
   ]
  }
 ],
 "metadata": {
  "kernelspec": {
   "display_name": "Python 3",
   "language": "python",
   "name": "python3"
  },
  "language_info": {
   "name": "python",
   "version": "3.11.4"
  },
  "orig_nbformat": 4
 },
 "nbformat": 4,
 "nbformat_minor": 2
}
