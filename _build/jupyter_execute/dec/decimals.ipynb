{
 "cells": [
  {
   "cell_type": "markdown",
   "metadata": {},
   "source": [
    "# Десятичные дроби\n",
    "\n",
    "Для представления натуральных чисел широко используется **десятичная система счисления**. К её преимуществам можно отнести достаточно компактную запись весьма больших чисел. Например, общая численность населения Земли на момент написания этих строк равна\n",
    "\n",
    "$$\n",
    "    8\\,054\\,092\\,116 = 8\\cdot 10^9 + 5\\cdot 10^7 + 4\\cdot 10^6 + 9 \\cdot 10^4 + 2\\cdot 10^3 + 10^2 + 10^1 + 6\\cdot 10^0.\n",
    "$$\n",
    "\n",
    "Для записи миллиардных величин потребовалось всего лишь $10$ цифр! "
   ]
  },
  {
   "cell_type": "markdown",
   "metadata": {},
   "source": [
    "В общем случае $n$-значное число $m$ в десятичной записи имеет вид\n",
    "\n",
    "$$\n",
    "    m = \\overline{a_{n-1}a_{n-2}\\ldots a_1 a_0}, \\quad a_i \\in \\{0, 1, \\ldots, 9\\}, \\quad a_{n-1} \\ne 0.\n",
    "$$\n",
    "\n",
    "Такая запись означает, что\n",
    "\n",
    "$$\n",
    "    m = a_{n-1}\\cdot 10^{n-1} + a_{n-2}\\cdot 10^{n-2} + \\ldots + a_1 \\cdot 10 + a_0.\n",
    "$$"
   ]
  }
 ],
 "metadata": {
  "language_info": {
   "codemirror_mode": {
    "name": "ipython",
    "version": 3
   },
   "file_extension": ".py",
   "mimetype": "text/x-python",
   "name": "python",
   "nbconvert_exporter": "python",
   "pygments_lexer": "ipython3",
   "version": "3.11.4"
  }
 },
 "nbformat": 4,
 "nbformat_minor": 2
}