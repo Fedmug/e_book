{
 "cells": [
  {
   "cell_type": "markdown",
   "metadata": {},
   "source": [
    "# Периодические десятичные дроби\n",
    "\n",
    "Десятичная дробь\n",
    "\n",
    "```{math}\n",
    "    \\alpha = \\pm\\overline{a_{-k}\\ldots a_{-1} a_0.a_1\\ldots a_n\\ldots}, \\quad a_i \\in \\{0, 1, \\ldots, 9\\}.\n",
    "```\n",
    "\n",
    "называется периодической, если $a_{p+m} = a_p$."
   ]
  }
 ],
 "metadata": {
  "kernelspec": {
   "display_name": "Python 3",
   "language": "python",
   "name": "python3"
  },
  "language_info": {
   "codemirror_mode": {
    "name": "ipython",
    "version": 3
   },
   "file_extension": ".py",
   "mimetype": "text/x-python",
   "name": "python",
   "nbconvert_exporter": "python",
   "pygments_lexer": "ipython3",
   "version": "3.11.4"
  }
 },
 "nbformat": 4,
 "nbformat_minor": 2
}