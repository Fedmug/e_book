{
 "cells": [
  {
   "cell_type": "markdown",
   "metadata": {},
   "source": [
    "# Десятичные дроби\n",
    "\n",
    "У действительного числа есть много определений разной степени строгости. Например, можно сказать, что действительное число — это\n",
    "\n",
    "* точка на числовой прямой;\n",
    "* бесконечная десятичная дробь;\n",
    "* класс эквивалентных последовательностей рациональных чисел (что бы это ни значило).\n",
    "\n",
    "```{math}\n",
    "    \\alpha = \\pm\\overline{a_{-k}\\ldots a_{-1} a_0.a_1\\ldots a_n\\ldots}, \\quad a_i \\in \\{0, 1, \\ldots, 9\\}.\n",
    "```"
   ]
  }
 ],
 "metadata": {
  "kernelspec": {
   "display_name": "Python 3",
   "language": "python",
   "name": "python3"
  },
  "language_info": {
   "codemirror_mode": {
    "name": "ipython",
    "version": 3
   },
   "file_extension": ".py",
   "mimetype": "text/x-python",
   "name": "python",
   "nbconvert_exporter": "python",
   "pygments_lexer": "ipython3",
   "version": "3.11.4"
  }
 },
 "nbformat": 4,
 "nbformat_minor": 2
}